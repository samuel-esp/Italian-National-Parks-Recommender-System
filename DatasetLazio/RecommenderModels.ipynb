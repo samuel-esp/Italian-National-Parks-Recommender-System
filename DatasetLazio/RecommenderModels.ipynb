{
 "cells": [
  {
   "cell_type": "code",
   "execution_count": null,
   "id": "6b1359ce",
   "metadata": {},
   "outputs": [],
   "source": [
    "!pip install turicreate\n",
    "!pip install numpy\n",
    "!pip install pandas\n",
    "!pip install matplotlib\n",
    "!pip install seaborn\n",
    "!pip install sklearn"
   ]
  },
  {
   "cell_type": "code",
   "execution_count": null,
   "id": "bb4f5d1a",
   "metadata": {},
   "outputs": [],
   "source": [
    "import turicreate as tc\n",
    "import pandas as pd\n",
    "from turicreate.toolkits.recommender.util import precision_recall_by_user"
   ]
  },
  {
   "cell_type": "code",
   "execution_count": null,
   "id": "02a6890b",
   "metadata": {
    "scrolled": true
   },
   "outputs": [],
   "source": [
    "sf = tc.SFrame.read_csv('italyRatings.csv', verbose = False)\n",
    "sf = sf.remove_column('rating_id') #remove the db id\n",
    "sf2 = tc.SFrame.read_csv('italyTrails.csv', verbose = False)\n",
    "sf2 = sf2.select_columns(['trail_id', 'name'])\n",
    "sf = sf.join(sf2, on='trail_id', how='inner')\n",
    "sf = sf.rename({'trail_id': 'item_id'}) #rinomiano il trail_id in item_id in maniera tale da conformarci con la libreria Turicreate\n",
    "sf = sf.rename({'name': 'item_name'}) #rinomiano il trail_id in item_id in maniera tale da conformarci con la libreria Turicreate\n",
    "sf2 = sf2.rename({'trail_id': 'item_id'})\n",
    "\n",
    "#Splitting Dataset\n",
    "train, test = tc.recommender.util.random_split_by_user(sf, user_id = \"user_id\",item_id = \"item_id\")\n",
    "#train.head"
   ]
  },
  {
   "cell_type": "markdown",
   "id": "8fabaf4e",
   "metadata": {},
   "source": [
    "## Item Based Collaborative Filtering - Recommender System\n",
    "##### In questo sottoparagrafo proviamo ad utilizzare l'item based recommender system sul dataset, inoltre proviamo a buildare il modello utilizzando dei parametri differenti per testare l'efficacia del sistema"
   ]
  },
  {
   "cell_type": "code",
   "execution_count": null,
   "id": "08bc14bf",
   "metadata": {
    "scrolled": true
   },
   "outputs": [],
   "source": [
    "item_based_cf_model = tc.recommender.item_similarity_recommender.create(train, user_id = 'user_id' , item_id = 'item_id' , \n",
    "                                                          target = 'user_rating' , user_data = None ,\n",
    "                                                          item_data = None , nearest_items = None , similarity_type = 'jaccard' ,\n",
    "                                                          threshold = 0.001, verbose = False)\n",
    "    \n",
    "ibcf_similarity = item_based_cf_model.get_similar_items(k=3, verbose = False)\n",
    "ibcf_similarity = ibcf_similarity.join(sf2, on='item_id', how='inner')\n",
    "ibcf_similarity = ibcf_similarity.join(sf2, on={'similar':'item_id'}, how='inner')\n",
    "ibcf_similarity = ibcf_similarity.rename({'name': 'item_name', 'name.1': 'similar_name'})\n",
    "ibcf_similarity.print_rows(num_rows=20, num_columns=6, max_row_width = 150)\n",
    "ibcf_recommend = item_based_cf_model.recommend(k=3, verbose = False)\n",
    "ibcf_recommend = ibcf_recommend.join(sf2, on='item_id', how='inner')\n",
    "ibcf_recommend.print_rows(num_rows=20, num_columns=5, max_row_width = 150)\n",
    "\n",
    "#pr_result = precision_recall_by_user(test, ibcf_recommend)\n",
    "#pr_result.print_rows(num_rows=500, num_columns=5, max_row_width = 150)\n",
    "\n"
   ]
  },
  {
   "cell_type": "markdown",
   "id": "36e97633",
   "metadata": {},
   "source": [
    "## User Based Collaborative Filtering - Recommender System\n",
    "##### In questo sottoparagrafo proviamo ad utilizzare l'user based recommender system sul dataset, utilizzeremo la stessa tipologia di modello utilizzata in precedenza ma con i parametri user_id e item_id invertiti come suggerisce la documentazione. Inoltre, come fatto nel caso precedente,  testiamo anche diversi parametri per valutare il sistema con l'efficacia migliore"
   ]
  },
  {
   "cell_type": "code",
   "execution_count": null,
   "id": "18f12aad",
   "metadata": {},
   "outputs": [],
   "source": [
    "user_based_cf_model = tc.recommender.item_similarity_recommender.create(train, user_id = 'item_id' , item_id = 'user_id' , \n",
    "                                                          target = 'user_rating' , user_data = None ,\n",
    "                                                          item_data = None , nearest_items = None , similarity_type = 'cosine' ,\n",
    "                                                          threshold = 0.001, verbose = False)\n",
    "    \n",
    "ubcf_similarity = user_based_cf_model.get_similar_items(k=5, verbose = False)\n",
    "ubcf_similarity.print_rows(num_rows=20, num_columns=4)\n",
    "ubcf_recommendation = user_based_cf_model.recommend(k=5, verbose = False)\n",
    "ubcf_recommendation = ubcf_recommendation.join(sf2, on='item_id', how='inner')\n",
    "ubcf_recommendation = ubcf_recommendation.sort([('user_id', False), ('score', False)])\n",
    "ubcf_recommendation = ubcf_recommendation.remove_column('rank')\n",
    "ubcf_recommendation.print_rows(num_rows=20, num_columns=5, max_row_width = 150)\n",
    "\n",
    "\n",
    "#pr_result = precision_recall_by_user(test, ubcf_recommendation, cutoffs=[3, 5])\n",
    "#pr_result.print_rows(num_rows=500, num_columns=5, max_row_width = 150)\n"
   ]
  },
  {
   "cell_type": "markdown",
   "id": "eee186da",
   "metadata": {},
   "source": [
    "## Matrix Factorization Based Recommender System\n",
    "##### In questo sottoparagrafo proviamo ad utilizzare la matrix factorization sul dataset, alternativa il cui approccio alla base risulta simile al Collaborative Filtering. Proviamo anche qui a far runnare il modello con diversi parametri"
   ]
  },
  {
   "cell_type": "code",
   "execution_count": null,
   "id": "4613d006",
   "metadata": {},
   "outputs": [],
   "source": [
    "matrix_factorization_model = tc.ranking_factorization_recommender.create(train, target = 'user_rating' ,\n",
    "                                                         ranking_regularization = 0.1 ,\n",
    "                                                         unobserved_rating_value = 1,\n",
    "                                                         max_iterations = 50, solver = \"sgd\", \n",
    "                                                         verbose = False)\n",
    "\n",
    "matrix_similarity = matrix_factorization_model.get_similar_items(k = 5, verbose = False)\n",
    "matrix_similarity = matrix_similarity.join(sf2, on='item_id', how='inner')\n",
    "matrix_similarity = matrix_similarity.join(sf2, on={'similar':'item_id'}, how='inner')\n",
    "matrix_similarity = matrix_similarity.rename({'name': 'item_name', 'name.1': 'similar_name'})\n",
    "matrix_similarity.print_rows(num_rows=20, num_columns=6, max_row_width=150)\n",
    "matrix_recommendation = matrix_factorization_model.recommend(k = 5, verbose = False)\n",
    "matrix_recommendation = matrix_recommendation.join(sf2, on='item_id', how='inner')\n",
    "matrix_recommendation.print_rows(num_rows=20, num_columns=5, max_row_width=150)\n",
    "\n",
    "#pr_result = precision_recall_by_user(test, matrix_recommendation, cutoffs=[10])\n",
    "#pr_result.print_rows(num_rows=500, num_columns=5, max_row_width = 150)"
   ]
  },
  {
   "cell_type": "markdown",
   "id": "d83b9387",
   "metadata": {},
   "source": [
    "## Content Based Recommender System\n",
    "##### In questo sottoparagrafo proviamo ad utilizzare un Content Based Recommender sul dataset, in particolare lo faremo sul file trails.csv che contiene tutte le feature piu' importanti di un percorso (circa 60 in totale)"
   ]
  },
  {
   "cell_type": "code",
   "execution_count": null,
   "id": "c2d1e933",
   "metadata": {},
   "outputs": [],
   "source": [
    "trails = tc.SFrame.read_csv('italyTrails.csv', verbose = False)\n",
    "trails = trails.remove_columns({'image_link', 'name', 'length_km', 'elevationm'}) #remove the db id and other fields\n",
    "trails = trails.rename({'trail_id': 'item_id'}) #rinomiano il trail_id in item_id in maniera tale da conformarci con la libreria \n",
    "train, test = tc.recommender.util.random_split_by_user(sf)\n",
    "content_based_model = tc.recommender.item_content_recommender.create(item_data = trails, item_id=\"item_id\", \n",
    "                                                                     observation_data = train, user_id=\"user_id\", \n",
    "                                                                     target=\"user_rating\", \n",
    "                                                                     verbose = False)\n",
    "content_based_similiarity = content_based_model.get_similar_items(verbose = False)\n",
    "content_based_similiarity = content_based_similiarity.join(sf2, on='item_id', how='inner')\n",
    "content_based_similiarity = content_based_similiarity.join(sf2, on={'similar':'item_id'}, how='inner')\n",
    "content_based_similiarity = content_based_similiarity.rename({'name': 'item_name', 'name.1': 'similar_name'})\n",
    "content_based_similiarity.print_rows(num_rows=20, num_columns=6, max_row_width=150)\n",
    "content_based_recommend = content_based_model.recommend(verbose = False)\n",
    "content_based_recommend = content_based_recommend.join(sf2, on='item_id', how='inner')\n",
    "content_based_recommend.print_rows(num_rows=20, num_columns=5, max_row_width=150)\n",
    "\n"
   ]
  },
  {
   "cell_type": "markdown",
   "id": "13c1925d",
   "metadata": {},
   "source": [
    "## Popular Based Recommender System\n",
    "##### In questo sottoparagrafo proviamo ad utilizzare il Recommender system piu' semplice: il popular based. Le raccomandazioni fornite sono utilii per superare il problema del Cold Start e per spingere l'utente a recensire piu' item possibili al fine di ottenere in futuro delle raccomandazioni che siano il piu' possibile pertinenti."
   ]
  },
  {
   "cell_type": "code",
   "execution_count": null,
   "id": "ccc6fb85",
   "metadata": {},
   "outputs": [],
   "source": [
    "popular_based_model = tc.popularity_recommender.create(sf, target = 'user_rating', verbose = False)\n",
    "popresult = popular_based_model.recommend()\n",
    "popresult = popresult.join(sf2, on='item_id', how='inner')\n",
    "popresult.print_rows(num_rows=20, num_columns=5)"
   ]
  },
  {
   "cell_type": "markdown",
   "id": "d2777859",
   "metadata": {},
   "source": [
    "## Valutazione Sperimentale\n",
    "##### In questo sottoparagrafo analizziamo la valutazione sperimentale dei Recommender System, si puo' notare come la Precision sia molto bassa per tutti i modelli (ma dai dati limitati sicuramente non abbondanti e' normale) mentre la Recall e' sicuramente molto piu' accettabile in relazione ai dati specialmente nella Matrix Factorization e nell'Item Based. L'item based e' il sistema che performa meglio nel complesso (era da aspettarselo per le ragioni discusse a lezione)"
   ]
  },
  {
   "cell_type": "code",
   "execution_count": null,
   "id": "5ef59819",
   "metadata": {},
   "outputs": [],
   "source": [
    "def binary_ratings(rating):\n",
    "    if (rating<=3):\n",
    "        return 0\n",
    "    elif (rating>=4):\n",
    "        return 1"
   ]
  },
  {
   "cell_type": "code",
   "execution_count": null,
   "id": "f596a921",
   "metadata": {},
   "outputs": [],
   "source": [
    "pr = tc.SFrame.read_csv('italyRatings.csv', verbose = False)\n",
    "pr.head()\n",
    "ratings = pr.apply(lambda x: binary_ratings(x['user_rating'])) #trasformo i rating in binary\n",
    "pr = pr.add_column(ratings, 'ratings')\n",
    "pr.head()\n",
    "pr = pr.remove_column('user_rating') #remove the db id\n",
    "pr = pr.rename({'ratings': 'user_rating'})\n",
    "pr = pr.rename({'trail_id': 'item_id'})\n",
    "\n",
    "\n",
    "\n",
    "pr_train, pr_test = tc.recommender.util.random_split_by_user(pr, user_id = \"user_id\",item_id = \"item_id\")\n",
    "\n",
    "pr_train.head()"
   ]
  },
  {
   "cell_type": "code",
   "execution_count": null,
   "id": "4cb5c916",
   "metadata": {},
   "outputs": [],
   "source": [
    "item_based_cf_model = tc.recommender.item_similarity_recommender.create(pr_train, user_id = 'user_id' , item_id = 'item_id' , \n",
    "                                                          target = 'user_rating' , user_data = None ,\n",
    "                                                          item_data = None , nearest_items = None , similarity_type = 'jaccard' ,\n",
    "                                                          #threshold = 0.001\n",
    "                                                            verbose = False)"
   ]
  },
  {
   "cell_type": "code",
   "execution_count": null,
   "id": "08d4b402",
   "metadata": {},
   "outputs": [],
   "source": [
    "content_based_model = tc.recommender.item_content_recommender.create(item_data = trails, item_id=\"item_id\", \n",
    "                                                                     observation_data = pr_train, user_id=\"user_id\", \n",
    "                                                                     target=\"user_rating\", \n",
    "                                                                     verbose = False)"
   ]
  },
  {
   "cell_type": "code",
   "execution_count": null,
   "id": "b0957486",
   "metadata": {},
   "outputs": [],
   "source": [
    "matrix_factorization_model = tc.ranking_factorization_recommender.create(pr_train, target = 'user_rating' ,\n",
    "                                                         #ranking_regularization = 0.1 ,\n",
    "                                                         #unobserved_rating_value = 1,\n",
    "                                                         max_iterations = 100, solver = \"sgd\", \n",
    "                                                         verbose = False)"
   ]
  },
  {
   "cell_type": "code",
   "execution_count": null,
   "id": "07d86595",
   "metadata": {},
   "outputs": [],
   "source": [
    "user_based_cf_model = tc.recommender.item_similarity_recommender.create(pr_train, user_id = 'item_id' , item_id = 'user_id' , \n",
    "                                                          target = 'user_rating' , user_data = None ,\n",
    "                                                          item_data = None , nearest_items = None , similarity_type = 'cosine' ,\n",
    "                                                          #threshold = 0.001\n",
    "                                                            verbose = False)"
   ]
  },
  {
   "cell_type": "code",
   "execution_count": null,
   "id": "0580045f",
   "metadata": {},
   "outputs": [],
   "source": [
    "tc.recommender.util.compare_models(pr_test, [content_based_model, matrix_factorization_model, user_based_cf_model, item_based_cf_model], [\"content_based_model\", \"matrix_factorization_model\", \"user_based_cf_model\", \"item_based_cf_model\"], user_sample = 1 , metric='precision_recall', verbose = False)\n",
    "\n",
    "\n",
    "\n"
   ]
  },
  {
   "cell_type": "code",
   "execution_count": null,
   "id": "58893775",
   "metadata": {},
   "outputs": [],
   "source": []
  }
 ],
 "metadata": {
  "kernelspec": {
   "display_name": "Python 3",
   "language": "python",
   "name": "python3"
  },
  "language_info": {
   "codemirror_mode": {
    "name": "ipython",
    "version": 3
   },
   "file_extension": ".py",
   "mimetype": "text/x-python",
   "name": "python",
   "nbconvert_exporter": "python",
   "pygments_lexer": "ipython3",
   "version": "3.8.8"
  }
 },
 "nbformat": 4,
 "nbformat_minor": 5
}